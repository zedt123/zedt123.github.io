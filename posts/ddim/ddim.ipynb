{
 "cells": [
  {
   "cell_type": "markdown",
   "metadata": {},
   "source": [
    "---\n",
    "title: \"DDIM Tutorial\"\n",
    "author: \"Andreas Makris\"\n",
    "date: 2024-12-20\n",
    "categories: [diffusion, tutorial]\n",
    "description: \"A tutorial to understand how to sample faster using DDPM and DDIM.\"\n",
    "---\n"
   ]
  },
  {
   "cell_type": "markdown",
   "metadata": {},
   "source": [
    "![](ddim_img.jpeg)"
   ]
  },
  {
   "cell_type": "markdown",
   "metadata": {},
   "source": [
    "The main downside of diffusion models is the time they take to generate samples. To do so, they need to reverse all forward timesteps (which are often 1,000 or more). There are a few ways we can speed this up, while only slightly compromising sample quality."
   ]
  },
  {
   "cell_type": "markdown",
   "metadata": {},
   "source": [
    "# Skipping DDPM Timesteps\n",
    "\n",
    "The simplest way to speed the reverse process is to skip some of the timesteps.\n",
    "\n",
    "Let $\\bar{\\alpha}_1,...,\\bar{\\alpha}_T$ be the diffusion parameters with $\\bar{\\alpha}_1\\approx 1.0$ and $\\bar{\\alpha}_T\\approx 0.0$. Then, we select $\\tau < T$ of these parameters $\\bar{\\alpha}_{i_i},...,\\bar{\\alpha}_{i_\\tau}$ , where $i_1=1<i_2<...<i_\\tau=T$ and skip the rest. There are many ways to choose the individual indices $i_2,...,i_{\\tau-1}$. The simplest choice is to choose evenly spaced indices (or almost evenly spaced indices), i.e. use numpy's linspace function, with the option to only return integers. \n",
    "\n",
    "To give a concrete example, consider $T=1,000$ and $\\tau=100$. Then, we select $\\alpha_1,\\alpha_{11},...,\\alpha_{989}, \\alpha_{1000}$.\n",
    "\n",
    "After selecting $\\bar{\\alpha}$, we need to **derive** $\\beta$. This step is crucial because, in the original formulation of DDPM, we began by defining $\\beta$ and then derived $\\bar{\\alpha}$. For the diffusion process to function effectively, it is essential that $\\bar{\\alpha}_1 \\approx 1.0$ and $\\bar{\\alpha}_T \\approx 0.0$. This ensures that:\n",
    "\n",
    "$$p_T(\\boldsymbol{x}_T)\\approx \\mathcal{N}(0,I)$$\n",
    "\n",
    "and \n",
    "\n",
    "$$p_t(\\boldsymbol{x}_t)\\approx p_{\\text{data}} \\quad \\text{for small } t$$\n",
    "\n",
    "To derive the $\\beta$ we look back at how we created $\\bar{\\alpha}$ from them and reverse that. Below we show the first 2 $\\beta$ and the general case:\n",
    "\n",
    "$\\bar{\\alpha}_1$ = $(1 - \\beta_1)$\n",
    "\n",
    "$\\bar{\\alpha}_2$ = $\\bar{\\alpha}_1(1 - \\beta_2)$\n",
    "\n",
    "$\\bar{\\alpha}_t$ = $\\bar{\\alpha}_{t-1}(1 - \\beta_t)$\n",
    "\n",
    "and so on. We can solve this with respect to $\\beta$:\n",
    "\n",
    "$\\beta_1 = 1 - \\bar{\\alpha}_1$\n",
    "\n",
    "$\\beta_2 = 1 - \\frac{\\bar{\\alpha}_2}{\\bar{\\alpha}_1}$\n",
    "\n",
    "$\\beta_t = 1 - \\frac{\\bar{\\alpha}_{t}}{\\bar{\\alpha}_{t-1}}$\n",
    "\n",
    "In our case, since we only pick some of the $\\bar{\\alpha}$, want them to preserve this property. Let $\\tilde{\\beta}$ be the new $\\beta$ corresponding to the re-indexed $\\bar{\\alpha}$. Then we want:\n",
    "\n",
    "$\\bar{\\alpha}_{i_1}$ = $(1 - \\tilde{\\beta}_{1})$\n",
    "\n",
    "$\\bar{\\alpha}_{i_2}$ = $\\bar{\\alpha}_{i_1}(1 - \\beta_2)$\n",
    "\n",
    "$\\bar{\\alpha}_{i_t}$ = $\\bar{\\alpha}_{i_{t-1}}(1 - \\beta_t)$\n",
    "\n",
    "and again if we solve with respect to $\\tilde{\\beta}$:\n",
    "\n",
    "$\\tilde{\\beta}_1 = 1 - \\bar{\\alpha}_{i_1}$\n",
    "\n",
    "$\\tilde{\\beta}_2 = 1 - \\frac{\\bar{\\alpha}_{i_2}}{\\bar{\\alpha}_{i_1}}$\n",
    "\n",
    "$\\tilde{\\beta}_t = 1 - \\frac{\\bar{\\alpha}_{i_t}}{\\bar{\\alpha}_{i_{t-1}}}$\n",
    "\n",
    "Below we show how to code this up."
   ]
  },
  {
   "cell_type": "code",
   "execution_count": 3,
   "metadata": {},
   "outputs": [
    {
     "name": "stdout",
     "output_type": "stream",
     "text": [
      "The first alpha_bar is close to 1: 0.99990\n",
      "The last alpha_bar is close to 0: 0.00004\n",
      "\n",
      "The respaced alphas are the same: True\n"
     ]
    }
   ],
   "source": [
    "import numpy as np\n",
    "\n",
    "# Create the beta\n",
    "beta_start = 0.0001\n",
    "beta_end = 0.02\n",
    "num_timesteps = 1000\n",
    "\n",
    "betas = np.linspace(beta_start, beta_end, num_timesteps)\n",
    "\n",
    "# Create the alpha_bars\n",
    "alpha_bar = np.cumprod(1 - betas)\n",
    "# Check the values of the first and last alpha_bar\n",
    "print(f\"The first alpha_bar is close to 1: {alpha_bar[0]:.5f}\")\n",
    "print(f\"The last alpha_bar is close to 0: {alpha_bar[-1]:.5f}\")\n",
    "\n",
    "# Choose some of the alpha_bar (e.g. 10)\n",
    "respaced_indices = np.linspace(0, 999, 10, dtype=np.int16) # We use 0-999 due to Python indexing\n",
    "respaced_alpha_bar = alpha_bar[respaced_indices]\n",
    "\n",
    "# Derive the beta from the alpha\n",
    "alpha_prev = 1.0\n",
    "beta_tilde = np.zeros(10)\n",
    "for t in range(10):\n",
    "    current_alpha = respaced_alpha_bar[t]\n",
    "    beta_tilde[t] = 1 - current_alpha / alpha_prev\n",
    "    alpha_prev = current_alpha\n",
    "\n",
    "# Derive the alpha from beta tilde to make sure they are correct!\n",
    "check_respaced_alpha_bar = np.cumprod(1 - beta_tilde)\n",
    "print(f\"\\nThe respaced alphas are the same: {np.all((check_respaced_alpha_bar - respaced_alpha_bar)<0.00001)}\")\n"
   ]
  },
  {
   "cell_type": "markdown",
   "metadata": {},
   "source": [
    "To check how well sample quality is with 10 respaced reverse steps, rather than 1000 we modify the exact DDPM to sample."
   ]
  },
  {
   "cell_type": "code",
   "execution_count": 5,
   "metadata": {},
   "outputs": [
    {
     "name": "stdout",
     "output_type": "stream",
     "text": [
      "Estimated mean is 4.992445945739746\n",
      "Estimated std is 1.7646558284759521\n"
     ]
    },
    {
     "data": {
      "image/png": "[encoded data removed]",
      "text/plain": [
       "<Figure size 640x480 with 1 Axes>"
      ]
     },
     "metadata": {},
     "output_type": "display_data"
    }
   ],
   "source": [
    "import torch\n",
    "\n",
    "import numpy as np\n",
    "import matplotlib.pyplot as plt\n",
    "    \n",
    "class Exact_DDPM():\n",
    "    def __init__(self, num_timesteps, betas):\n",
    "        super(Exact_DDPM, self).__init__()\n",
    "        self.num_timesteps = num_timesteps\n",
    "        self.beta = torch.from_numpy(betas)  \n",
    "        self.alpha = 1 - self.beta\n",
    "        self.alpha_bar = torch.cumprod(self.alpha,dim=0)\n",
    "\n",
    "        self.sqrt_beta = torch.sqrt(self.beta)\n",
    "        self.sqrt_alpha_bar = torch.sqrt(self.alpha_bar)\n",
    "        self.sqrt_one_alpha_bar = torch.sqrt(1-self.alpha_bar)\n",
    "        self.reverse_factor = 1 / torch.sqrt(1-self.beta)\n",
    "        self.reverse_factor_2 = torch.sqrt(1-self.alpha_bar)\n",
    "    \n",
    "    def reverse_diff(self, sample_size):\n",
    "        with torch.inference_mode():\n",
    "            samples = torch.zeros((self.num_timesteps+1, sample_size))\n",
    "            samples[-1] = torch.randn(sample_size)\n",
    "            for t in range(self.num_timesteps-1,-1,-1):\n",
    "                exact_sample = self.reverse_factor[t] * (samples[t+1] + self.beta[t]  * self.score(samples[t+1], t+1))\n",
    "                if t != 0:\n",
    "                    samples[t] = exact_sample + self.sqrt_beta[t] * torch.randn(sample_size)\n",
    "                else:\n",
    "                    samples[t] = exact_sample\n",
    "            return samples\n",
    "    \n",
    "    def score(self,x,t):\n",
    "        numerator = 5 *self.sqrt_alpha_bar[t-1] - x\n",
    "        denomenator = 3 * self.alpha_bar[t-1] + 1\n",
    "        return numerator / denomenator    \n",
    "    \n",
    "\n",
    "# Use the beta_tilde from above\n",
    "diffusion = Exact_DDPM(10, beta_tilde)\n",
    "\n",
    "samples = diffusion.reverse_diff(10000).numpy()\n",
    "plot_sample = samples[0]\n",
    "print(f\"Estimated mean is {np.mean(plot_sample)}\")\n",
    "print(f\"Estimated std is {np.std(plot_sample)}\")\n",
    "plt.hist(plot_sample, density=True)\n",
    "\n",
    "# Define parameters for the normal distribution\n",
    "mean = 5.0\n",
    "std = 2.0\n",
    "\n",
    "# Create a range of x values\n",
    "xmin, xmax = plt.xlim()\n",
    "x = torch.linspace(xmin, xmax, 200).numpy()\n",
    "\n",
    "# Compute the normal PDF: (1/(σ√(2π))) exp(-(x-μ)²/(2σ²))\n",
    "pdf = (1/(std * np.sqrt(2*np.pi))) * np.exp(-0.5*((x - mean)/std)**2)\n",
    "\n",
    "# Plot the PDF line\n",
    "plt.plot(x, pdf, 'r', linewidth=2)\n",
    "\n",
    "plt.show()"
   ]
  },
  {
   "cell_type": "markdown",
   "metadata": {},
   "source": [
    "We observe that the estimation of the mean and standard deviation is slightly worse compared to the 1,000-timestep reverse process (with an estimated mean of 4.998 and an estimated standard deviation of 1.995). This minor difference occurs because the distribution we are estimating is very simple. However, if we attempt the same approach with more complex target distributions, such as images, the decline in sample estimation would be significantly greater.\n",
    "\n",
    "Remarkably, there exists a different method to transform noise into data **without the need to modify the neural network** (or the exact score in our toy example). This is particularly impressive because it allows us to enhance performance without retraining or altering the existing model architecture. This method sometimes achieves a smaller decline in performance when using fewer reverse timesteps. This brings us to the DDIM, a generalisation to the DDPM."
   ]
  },
  {
   "cell_type": "markdown",
   "metadata": {},
   "source": [
    "# DDIM"
   ]
  },
  {
   "cell_type": "markdown",
   "metadata": {},
   "source": [
    "We are not going to go over the detailed derivations of the [DDIM](https://arxiv.org/abs/2010.02502) reverse process, but we explain the general idea. In the [DDPM](https://arxiv.org/abs/2006.11239) case we first define $p(\\boldsymbol{x}_t|\\boldsymbol{x}_{t-1})$ assuming the Markov Property and from that we derive $p(\\boldsymbol{x}_t|\\boldsymbol{x}_{0})$ and $p(\\boldsymbol{x}_{t-1}|\\boldsymbol{x}_{t},\\boldsymbol{x}_{0})$. On the other hand, in the case of the DDIM, we define $p(\\boldsymbol{x}_{t-1}|\\boldsymbol{x}_{t},\\boldsymbol{x}_{0})$, assuming a different non-Markovian structure and then derive $p(\\boldsymbol{x}_t|\\boldsymbol{x}_{0})$ and $p(\\boldsymbol{x}_t|\\boldsymbol{x}_{t-1})$. To do so, we give a specific form to $p(\\boldsymbol{x}_{t-1}|\\boldsymbol{x}_{t},\\boldsymbol{x}_{0})$, so that $p(\\boldsymbol{x}_t|\\boldsymbol{x}_{0})$ that is induced from it has the same form as in the DDPM case (so that we can use the same neural network). The form that is required to achieve this is the following:\n",
    "\n",
    "$$p(\\boldsymbol{x}_{t-1}|\\boldsymbol{x}_{t},\\boldsymbol{x}_{0})=\\mathcal{N}(\\sqrt{\\bar{\\alpha}_{t-1}}\\boldsymbol{x}_0 + \\sqrt{1-\\bar{\\alpha}_{t-1}-\\sigma_t^2}\\frac{\\boldsymbol{x}_t-\\sqrt{\\bar{\\alpha}_{t}}\\boldsymbol{x}_0}{\\sqrt{1-\\bar{\\alpha}_t}},\\sigma_t^2 I)$$\n",
    "\n",
    "where $\\sigma_t^2$ is a user defined hyperparameter. If we choose $\\sigma_t^2=\\frac{1-\\bar{\\alpha}_{t-1}}{1-\\bar{\\alpha}_{t}}\\beta_t$ we have the DDPM model! This leads to the hyperparameter $\\eta$ that is used to choose $\\sigma_t:=\\eta\\sqrt{\\frac{1-\\bar{\\alpha}_{t-1}}{1-\\bar{\\alpha}_{t}}\\beta_t}$. If we set $\\eta=1$ we have the DDPM reverse process. If we set $\\eta=0$ we have a deterministic model! The [DDIM](https://arxiv.org/abs/2010.02502) paper experimented with this hyperparameter and showed that the quality degradation was significantly mitigated when DDIM was used with $\\eta=0$! Below we code up the DDIM reverse process and compare it to the DDPM with 10 reverse steps. Before doing so we go over some details of the DDPM sampling process that also appear in the DDIM sampling process."
   ]
  },
  {
   "cell_type": "markdown",
   "metadata": {},
   "source": [
    "## DDPM Sampling Explained\n",
    "\n",
    "DDPM sampling starts with some isotropic noise and iteratively uses the following formula:\n",
    "\n",
    "$$\\boldsymbol{x}_{t-1}=\\frac{1}{\\sqrt{\\alpha}_t}\\left(\\boldsymbol{x}_{t}-\\frac{\\beta_t}{\\sqrt{1-\\bar{\\alpha}_t}}\\hat{\\epsilon}(\\boldsymbol{x}_{t},t)\\right)+\\sqrt{\\beta}_t \\boldsymbol{z}_t,$$\n",
    "\n",
    "where $\\hat{\\epsilon}(\\boldsymbol{x}_{t},t)$ is the neural network that estimates the noise $\\left(\\text{note that in our code we instead use }\\nabla_{\\boldsymbol{x}_t}\\log p_t(\\boldsymbol{x}_t)=-\\frac{\\hat{\\epsilon}(\\boldsymbol{x}_{t},t)}{\\sqrt{1-\\bar{\\alpha}_t}}\\right)$ and $\\boldsymbol{z}_t\\sim\\mathcal{N}(0,I)$.\n",
    "\n",
    "The DDPM sampling formula actually comes from the combination of two other formulas. First we solve the forward diffusion equations with respect to $\\boldsymbol{x}_0$ to obtain an approximation of $\\boldsymbol{x}_0$ given $\\boldsymbol{x}_t$:\n",
    "\n",
    "$$\\hat{\\boldsymbol{x}}_0(\\boldsymbol{x}_t)=\\frac{1}{\\sqrt{\\bar{\\alpha}_t}}\\left(\\boldsymbol{x}_t-\\sqrt{1-\\bar{\\alpha}_t}\\hat{\\epsilon}(\\boldsymbol{x}_{t},t)\\right)$$\n",
    "\n",
    "Then, we use this approximation to estimate the mean of $p(\\boldsymbol{x}_{t-1}|\\boldsymbol{x}_{t},\\boldsymbol{x}_{0})$:\n",
    "\n",
    "$$\\boldsymbol{m}_t(\\boldsymbol{x}_t,\\hat{\\boldsymbol{x}}_0 )=\\frac{(1-\\bar{\\alpha}_{t-1})\\sqrt{\\alpha}_t\\boldsymbol{x}_t+\\sqrt{\\bar{\\alpha}_{t-1}}\\beta_t \\hat{\\boldsymbol{x}}_0}{1-\\bar{\\alpha}_t}$$\n",
    "\n",
    "Finally we add some noise $(\\sqrt{\\beta}_t \\boldsymbol{z}_t)$.\n",
    "\n",
    "This means that what the reverse diffusion actually does is it **estimates** $\\boldsymbol{x}_0$ **at each timestep** and then uses that to create $\\boldsymbol{x}_{t-1}$. \n",
    "\n",
    "For the DDIM we do a similar thing. We first estimate $\\boldsymbol{x}_0$ and then use is to sample from  $p(\\boldsymbol{x}_{t-1}|\\boldsymbol{x}_{t},\\hat{\\boldsymbol{x}}_{0})$."
   ]
  },
  {
   "cell_type": "code",
   "execution_count": 23,
   "metadata": {},
   "outputs": [
    {
     "name": "stdout",
     "output_type": "stream",
     "text": [
      "Estimated mean is 4.973484516143799\n",
      "Estimated std is 1.6710020303726196\n"
     ]
    },
    {
     "data": {
      "image/png": "[encoded data removed]",
      "text/plain": [
       "<Figure size 640x480 with 1 Axes>"
      ]
     },
     "metadata": {},
     "output_type": "display_data"
    }
   ],
   "source": [
    "import torch\n",
    "\n",
    "import numpy as np\n",
    "import matplotlib.pyplot as plt\n",
    "    \n",
    "class Exact_DDIM():\n",
    "    def __init__(self, num_timesteps, betas):\n",
    "        super(Exact_DDIM, self).__init__()\n",
    "        self.num_timesteps = num_timesteps\n",
    "        self.beta = torch.from_numpy(betas)  \n",
    "        self.alpha = 1 - self.beta\n",
    "        self.alpha_bar = torch.cumprod(self.alpha,dim=0)\n",
    "\n",
    "        # Create a tensor of alpha_bar_{t-1} so be multiplied to create the sigmas\n",
    "        self.alpha_bar_prev = torch.cat([torch.tensor(torch.nan).unsqueeze(0),self.alpha_bar[:-1]])\n",
    "\n",
    "        self.sqrt_beta = torch.sqrt(self.beta)\n",
    "        self.sqrt_alpha_bar = torch.sqrt(self.alpha_bar)\n",
    "        self.sqrt_one_alpha_bar = torch.sqrt(1-self.alpha_bar)\n",
    "        self.reverse_factor = 1 / torch.sqrt(1-self.beta)\n",
    "        self.reverse_factor_2 = torch.sqrt(1-self.alpha_bar)\n",
    "\n",
    "    \n",
    "    def reverse_diff(self, sample_size, eta=0.0):\n",
    "        # First calculate sigma through eta\n",
    "        # Note that sigma[0] is none. We do not use sigma[0] \n",
    "        # since we are estimating x0 using x1\n",
    "        sigma = eta * torch.sqrt((1 - self.alpha_bar_prev)/(1 - self.alpha_bar)*self.beta)\n",
    "        sigma2 = sigma ** 2\n",
    "\n",
    "        with torch.inference_mode():\n",
    "            samples = torch.zeros((self.num_timesteps+1, sample_size))\n",
    "            samples[-1] = torch.randn(sample_size)\n",
    "            for t in range(self.num_timesteps-1,-1,-1):\n",
    "                xt = samples[t+1] # this is x_{t+1}, we estimate x_t\n",
    "                x0 = (xt + (1 - self.alpha_bar[t]) *  self.score(xt, t+1)) / self.sqrt_alpha_bar[t]\n",
    "                if t > 0:\n",
    "                    mean = (self.sqrt_alpha_bar[t-1] * x0 +\n",
    "                            torch.sqrt(1 - self.alpha_bar[t-1]- sigma2[t]) *\n",
    "                            (xt - self.sqrt_alpha_bar[t] * x0) / torch.sqrt(1-self.alpha_bar[t])\n",
    "                            )\n",
    "                    # Add noise\n",
    "                    samples[t] = mean + sigma[t] * torch.randn_like(mean)\n",
    "                else:\n",
    "                    samples[0] = x0\n",
    "\n",
    "            return samples\n",
    "    \n",
    "    def score(self,x,t):\n",
    "        numerator = 5 *self.sqrt_alpha_bar[t-1] - x\n",
    "        denomenator = 3 * self.alpha_bar[t-1] + 1\n",
    "        return numerator / denomenator    \n",
    "    \n",
    "\n",
    "# Use the beta_tilde from above\n",
    "diffusion = Exact_DDIM(10, beta_tilde)\n",
    "\n",
    "samples = diffusion.reverse_diff(10000).numpy()\n",
    "plot_sample = samples[0]\n",
    "print(f\"Estimated mean is {np.mean(plot_sample)}\")\n",
    "print(f\"Estimated std is {np.std(plot_sample)}\")\n",
    "plt.hist(plot_sample, density=True)\n",
    "\n",
    "# Define parameters for the normal distribution\n",
    "mean = 5.0\n",
    "std = 2.0\n",
    "\n",
    "# Create a range of x values\n",
    "xmin, xmax = plt.xlim()\n",
    "x = torch.linspace(xmin, xmax, 200).numpy()\n",
    "\n",
    "# Compute the normal PDF: (1/(σ√(2π))) exp(-(x-μ)²/(2σ²))\n",
    "pdf = (1/(std * np.sqrt(2*np.pi))) * np.exp(-0.5*((x - mean)/std)**2)\n",
    "\n",
    "# Plot the PDF line\n",
    "plt.plot(x, pdf, 'r', linewidth=2)\n",
    "\n",
    "plt.show()"
   ]
  },
  {
   "cell_type": "markdown",
   "metadata": {},
   "source": [
    "We see slightly worse results for the estimated mean and std. It is important to check both methods when attempting sampling to see which one performs better for your specific task."
   ]
  }
 ],
 "metadata": {
  "kernelspec": {
   "display_name": "Python 3",
   "language": "python",
   "name": "python3"
  },
  "language_info": {
   "codemirror_mode": {
    "name": "ipython",
    "version": 3
   },
   "file_extension": ".py",
   "mimetype": "text/x-python",
   "name": "python",
   "nbconvert_exporter": "python",
   "pygments_lexer": "ipython3",
   "version": "3.8.10"
  }
 },
 "nbformat": 4,
 "nbformat_minor": 2
}
